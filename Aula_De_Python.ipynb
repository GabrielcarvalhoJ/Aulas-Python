{
  "nbformat": 4,
  "nbformat_minor": 0,
  "metadata": {
    "colab": {
      "provenance": [],
      "authorship_tag": "ABX9TyOtqmXy+W4+DdJ7V8umaqg2",
      "include_colab_link": true
    },
    "kernelspec": {
      "name": "python3",
      "display_name": "Python 3"
    },
    "language_info": {
      "name": "python"
    }
  },
  "cells": [
    {
      "cell_type": "markdown",
      "metadata": {
        "id": "view-in-github",
        "colab_type": "text"
      },
      "source": [
        "<a href=\"https://colab.research.google.com/github/GabrielcarvalhoJ/Aulas-Python/blob/main/Aula_De_Python.ipynb\" target=\"_parent\"><img src=\"https://colab.research.google.com/assets/colab-badge.svg\" alt=\"Open In Colab\"/></a>"
      ]
    },
    {
      "cell_type": "code",
      "source": [
        "num1 = float(input(\"Digite o primeiro número: \"))\n",
        "num2 = float(input(\"Digite o segundo número: \"))\n",
        "\n",
        "soma = num1 + num2\n",
        "subtracao = num1 - num2\n",
        "multiplicacao = num1 * num2\n",
        "divisao = num1 / num2 if num2 != 0 else \"Não é possível dividir por zero\"\n",
        "\n",
        "\n",
        "print(f\"A soma dos números é: {soma}\")\n",
        "print(f\"A subtração dos números é: {subtracao}\")\n",
        "print(f\"A multiplicação dos números é: {multiplicacao}\")\n",
        "print(f\"A divisão dos números é: {divisao}\")\n"
      ],
      "metadata": {
        "colab": {
          "base_uri": "https://localhost:8080/"
        },
        "id": "QDOdQHhxIo8Q",
        "outputId": "32d5ab65-23ff-41d9-ad98-87667a922475"
      },
      "execution_count": 16,
      "outputs": [
        {
          "output_type": "stream",
          "name": "stdout",
          "text": [
            "Digite o primeiro número: 25\n",
            "Digite o segundo número: 30\n",
            "A soma dos números é: 55.0\n",
            "A subtração dos números é: -5.0\n",
            "A multiplicação dos números é: 750.0\n",
            "A divisão dos números é: 0.8333333333333334\n"
          ]
        }
      ]
    },
    {
      "cell_type": "code",
      "source": [
        "idade = 18\n",
        "\n",
        "if idade > 18:\n",
        "  print('É maior de idade')\n",
        "\n",
        "else:\n",
        "  print('É menor de idade')\n",
        "\n",
        "\n"
      ],
      "metadata": {
        "colab": {
          "base_uri": "https://localhost:8080/"
        },
        "id": "UUxMtpuyTXRO",
        "outputId": "a47f58fe-afa7-441a-f21d-3d839184b4f8"
      },
      "execution_count": 27,
      "outputs": [
        {
          "output_type": "stream",
          "name": "stdout",
          "text": [
            "É menor de idade\n"
          ]
        }
      ]
    },
    {
      "cell_type": "code",
      "source": [
        "#IMC = PESO / ALTURA ** 2\n",
        "peso = float (input('Insira o seu peso: '))\n",
        "altura = float (input ('Insira a sua altura: '))\n",
        "IMC = peso / altura **2\n",
        "print(f\"Seu IMC é: {imc:.2f}\")"
      ],
      "metadata": {
        "colab": {
          "base_uri": "https://localhost:8080/"
        },
        "id": "7Ffbg3naMoke",
        "outputId": "e9130a18-6a24-446e-a697-207f0c0d388c"
      },
      "execution_count": 19,
      "outputs": [
        {
          "output_type": "stream",
          "name": "stdout",
          "text": [
            "Insira o seu peso: 70\n",
            "Insira a sua altura: 1.70\n",
            "Seu IMC é: 24.51\n"
          ]
        }
      ]
    },
    {
      "cell_type": "code",
      "source": [
        "nome = input('Coloque o nome: ')\n",
        "rua = input('Nome da rua: ')\n",
        "numero = input('Numero: ')\n",
        "bairro = input('Bairro: ')\n",
        "cidade = input('Cidade: ')\n",
        "CEP = input ('CEP - apenas Números: ')\n",
        "\n",
        "print(f\"{nome}, residente a rua {rua}, {numero}, {bairro}, {cidade}, {CEP}\")"
      ],
      "metadata": {
        "colab": {
          "base_uri": "https://localhost:8080/"
        },
        "id": "5ew3htgSOuCX",
        "outputId": "a48c8d2f-8138-4a3f-ff67-a69a56b1689f"
      },
      "execution_count": 21,
      "outputs": [
        {
          "output_type": "stream",
          "name": "stdout",
          "text": [
            "Coloque o nome: Luiz Gabriel\n",
            "Nome da rua: rua maria emilia\n",
            "Numero: 100\n",
            "Bairro: Mangabeira\n",
            "Cidade: João pessoa\n",
            "CEP - apenas Números: 23213123\n",
            "Luiz Gabriel, residente a rua rua maria emilia, 100, Mangabeira, João pessoa, 23213123\n"
          ]
        }
      ]
    },
    {
      "cell_type": "code",
      "source": [
        "tempC = float(input('Qual a temperatura? '))\n",
        "\n",
        "tempFah = (tempC * 9/5) + 32\n",
        "print (tempFah)"
      ],
      "metadata": {
        "colab": {
          "base_uri": "https://localhost:8080/"
        },
        "id": "kRcAGlGKQwkn",
        "outputId": "e5b3d4b7-b88a-4391-f7c1-21c5df6f0815"
      },
      "execution_count": 24,
      "outputs": [
        {
          "output_type": "stream",
          "name": "stdout",
          "text": [
            "Qual a temperatura? 32\n",
            "89.6\n"
          ]
        }
      ]
    },
    {
      "cell_type": "code",
      "source": [
        "idade = 16\n",
        "\n",
        "if idade >= 60:\n",
        "  print('É idoso')\n",
        "elif idade >= 35:\n",
        "  print('É adulto')\n",
        "elif idade >= 18:\n",
        "  print('É maior de idade')\n",
        "else: print ('Tu soi de meno')"
      ],
      "metadata": {
        "colab": {
          "base_uri": "https://localhost:8080/"
        },
        "id": "EvciqCXmWLVp",
        "outputId": "463a5899-700e-45c6-8443-0653a52166e6"
      },
      "execution_count": 32,
      "outputs": [
        {
          "output_type": "stream",
          "name": "stdout",
          "text": [
            "Tu soi de meno\n"
          ]
        }
      ]
    },
    {
      "cell_type": "code",
      "source": [
        "valor_compra = float(input(\"Digite o valor da compra: \"))\n",
        "\n",
        "if valor_compra <- 100:\n",
        "    print('Você não tem desconto, otario!')\n",
        "elif valor_compra <- 500:\n",
        "    print(valor_compra*0.1)"
      ],
      "metadata": {
        "id": "OURUwAmHcpBW"
      },
      "execution_count": null,
      "outputs": []
    },
    {
      "cell_type": "code",
      "source": [
        "idade = 20\n",
        "temCNH = True\n",
        "\n",
        "if idade > 18:\n",
        "  if temCNH:\n",
        "    print('Você pode dirigir')\n",
        "  else:\n",
        "    print('sem habilitação, não pode dirigir!')\n",
        "else:\n",
        "  print('Menor de idade não pode dirigir')"
      ],
      "metadata": {
        "colab": {
          "base_uri": "https://localhost:8080/"
        },
        "id": "-Dmjojzget8y",
        "outputId": "1361b695-c828-4fc0-9308-392be627a9e0"
      },
      "execution_count": 33,
      "outputs": [
        {
          "output_type": "stream",
          "name": "stdout",
          "text": [
            "Você pode dirigir\n"
          ]
        }
      ]
    },
    {
      "cell_type": "code",
      "source": [],
      "metadata": {
        "id": "Tdw-xxgLet6C"
      },
      "execution_count": null,
      "outputs": []
    }
  ]
}
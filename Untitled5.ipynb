{
  "nbformat": 4,
  "nbformat_minor": 0,
  "metadata": {
    "colab": {
      "provenance": [],
      "authorship_tag": "ABX9TyM406xNjQ1RLXzjktv0VZPf",
      "include_colab_link": true
    },
    "kernelspec": {
      "name": "python3",
      "display_name": "Python 3"
    },
    "language_info": {
      "name": "python"
    }
  },
  "cells": [
    {
      "cell_type": "markdown",
      "metadata": {
        "id": "view-in-github",
        "colab_type": "text"
      },
      "source": [
        "<a href=\"https://colab.research.google.com/github/GabrielcarvalhoJ/Aulas-Python/blob/main/Untitled5.ipynb\" target=\"_parent\"><img src=\"https://colab.research.google.com/assets/colab-badge.svg\" alt=\"Open In Colab\"/></a>"
      ]
    },
    {
      "cell_type": "code",
      "execution_count": 1,
      "metadata": {
        "colab": {
          "base_uri": "https://localhost:8080/"
        },
        "id": "8Y-V1xMHSFOk",
        "outputId": "f0cb429e-d7a5-4c15-e995-ffa9f518ee7b"
      },
      "outputs": [
        {
          "output_type": "stream",
          "name": "stdout",
          "text": [
            "['maçâ', 'laranja']\n"
          ]
        }
      ],
      "source": [
        "lista = [\"maçâ\", \"banana\", \"laranja\"]\n",
        "indice = lista.index(\"banana\")\n",
        "lista.pop(indice)\n",
        "print(lista)"
      ]
    },
    {
      "cell_type": "code",
      "source": [
        "lista = ['jaca', 'melão', 'manga', 'graviola', 'jaca', 'maça', 'banana', 'jaca']\n",
        "\n",
        "fruta_remover = 'jaca'\n",
        "\n",
        "lista = [x for x in lista if x != fruta_remover]\n",
        "\n",
        "print(lista)"
      ],
      "metadata": {
        "colab": {
          "base_uri": "https://localhost:8080/"
        },
        "id": "Y-c_JH0WgzdY",
        "outputId": "7387c060-38e4-45f0-c4e4-30114a73617c"
      },
      "execution_count": 4,
      "outputs": [
        {
          "output_type": "stream",
          "name": "stdout",
          "text": [
            "['melão', 'manga', 'graviola', 'maça', 'banana']\n"
          ]
        }
      ]
    },
    {
      "cell_type": "code",
      "source": [
        "notas = [6, 8, 5, 4, 7, 7, 9, 3, 6]"
      ],
      "metadata": {
        "id": "-I-8sH0Ahrkt"
      },
      "execution_count": 7,
      "outputs": []
    },
    {
      "cell_type": "code",
      "source": [
        "notas = [x for x in notas if x >= 6]\n",
        "\n",
        "print (notas)"
      ],
      "metadata": {
        "id": "OylzcUaeieip"
      },
      "execution_count": null,
      "outputs": []
    }
  ]
}